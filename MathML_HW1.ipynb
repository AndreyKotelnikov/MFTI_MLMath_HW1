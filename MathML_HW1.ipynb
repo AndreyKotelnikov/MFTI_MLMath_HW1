{
 "cells": [
  {
   "cell_type": "markdown",
   "id": "b054bd88",
   "metadata": {
    "id": "b054bd88"
   },
   "source": [
    "# <center> Линейная алгебра в контексте линейных методов. Практика.\n",
    "\n",
    "## <center> Прогнозирование выработки газа на скважинах."
   ]
  },
  {
   "cell_type": "markdown",
   "id": "325bc80b",
   "metadata": {
    "id": "325bc80b"
   },
   "source": [
    "## Постановка задачи"
   ]
  },
  {
   "cell_type": "markdown",
   "id": "8247bd54",
   "metadata": {
    "id": "8247bd54"
   },
   "source": [
    "У Василия, основателя компании «Газ-Таз-Ваз-Нефть», дела идут в гору: у него уже функционирует 200 скважин для добычи газа. В этом году он открывает 30 новых скважин. Однако в целях оптимизации расходов и повышения дохода Василию необходимо оценить, сколько денег будет приносить ему каждая из скважин, а также понять, какие факторы (параметры скважин) потенциально сильнее всего повлияют на объём добычи газа. Для этого Василий решил нанять вас как специалиста в области Data Science.\n",
    "\n",
    "Василий представляет вам набор данных о добыче газа на своих скважинах. Файл с данными вы можете скачать на платформе.\n",
    "\n",
    "**Признаки в данных:**\n",
    "\n",
    "* Well — идентификатор скважины;\n",
    "* Por — пористость скважины (%);\n",
    "* Perm — проницаемость скважины;\n",
    "* AI — акустический импеданс ($кг/м^2 * 10^6$);\n",
    "* Brittle — коэффициент хрупкости скважины (%);\n",
    "* TOC — общий органический углерод (%);\n",
    "* VR — коэффициент отражения витринита (%);\n",
    "* Prod — добыча газа в сутки (млн. кубических футов).\n",
    "\n",
    "**Ваша задача** — построить регрессионную модель, которая прогнозирует выработку газа на скважине (целевой признак — Prod) на основе остальных характеристик скважины, и проинтерпретировать результаты вашей модели.\n",
    "\n",
    "Разделим задачу на две части:\n",
    "* В первой мы построим простейшую модель линейной регрессии, проанализируем результаты её работы и выберем наиболее значимые факторы для прогнозирования.\n",
    "* Во второй мы займёмся построением модели полиномиальной регрессии с регуляризацией и посмотрим на итоговые результаты моделирования.\n"
   ]
  },
  {
   "cell_type": "markdown",
   "id": "d67d069e",
   "metadata": {
    "id": "d67d069e"
   },
   "source": [
    "Импортируем необходимые библиотеки:"
   ]
  },
  {
   "cell_type": "code",
   "execution_count": 1,
   "id": "83a555bc-8dff-4b7e-bba1-cd4f4a9e69b2",
   "metadata": {
    "ExecuteTime": {
     "end_time": "2024-10-26T13:52:57.142152Z",
     "start_time": "2024-10-26T13:52:57.109182Z"
    },
    "id": "83a555bc-8dff-4b7e-bba1-cd4f4a9e69b2"
   },
   "outputs": [],
   "source": [
    "# Импорт библиотек\n",
    "import numpy as np # для работы с массивами\n",
    "import pandas as pd # для работы с DataFrame \n",
    "import seaborn as sns # библиотека для визуализации статистических данных\n",
    "import matplotlib.pyplot as plt # для построения графиков\n",
    "\n",
    "%matplotlib inline"
   ]
  },
  {
   "cell_type": "markdown",
   "id": "e689ddaf",
   "metadata": {
    "id": "e689ddaf"
   },
   "source": [
    "Прочитаем исходные данные:"
   ]
  },
  {
   "cell_type": "code",
   "execution_count": 2,
   "id": "b7b5cd9b-703f-4dbc-a6e3-61d583eafcac",
   "metadata": {
    "ExecuteTime": {
     "end_time": "2024-10-26T13:52:57.170270Z",
     "start_time": "2024-10-26T13:52:57.143157Z"
    },
    "colab": {
     "base_uri": "https://localhost:8080/",
     "height": 206
    },
    "id": "b7b5cd9b-703f-4dbc-a6e3-61d583eafcac",
    "outputId": "d4e99a48-2a0d-4edd-f86c-617c44bf36d2"
   },
   "outputs": [
    {
     "data": {
      "text/html": [
       "<div>\n",
       "<style scoped>\n",
       "    .dataframe tbody tr th:only-of-type {\n",
       "        vertical-align: middle;\n",
       "    }\n",
       "\n",
       "    .dataframe tbody tr th {\n",
       "        vertical-align: top;\n",
       "    }\n",
       "\n",
       "    .dataframe thead th {\n",
       "        text-align: right;\n",
       "    }\n",
       "</style>\n",
       "<table border=\"1\" class=\"dataframe\">\n",
       "  <thead>\n",
       "    <tr style=\"text-align: right;\">\n",
       "      <th></th>\n",
       "      <th>Well</th>\n",
       "      <th>Por</th>\n",
       "      <th>Perm</th>\n",
       "      <th>AI</th>\n",
       "      <th>Brittle</th>\n",
       "      <th>TOC</th>\n",
       "      <th>VR</th>\n",
       "      <th>Prod</th>\n",
       "    </tr>\n",
       "  </thead>\n",
       "  <tbody>\n",
       "    <tr>\n",
       "      <th>0</th>\n",
       "      <td>1</td>\n",
       "      <td>12.08</td>\n",
       "      <td>2.92</td>\n",
       "      <td>2.80</td>\n",
       "      <td>81.40</td>\n",
       "      <td>1.16</td>\n",
       "      <td>2.31</td>\n",
       "      <td>4165.196191</td>\n",
       "    </tr>\n",
       "    <tr>\n",
       "      <th>1</th>\n",
       "      <td>2</td>\n",
       "      <td>12.38</td>\n",
       "      <td>3.53</td>\n",
       "      <td>3.22</td>\n",
       "      <td>46.17</td>\n",
       "      <td>0.89</td>\n",
       "      <td>1.88</td>\n",
       "      <td>3561.146205</td>\n",
       "    </tr>\n",
       "    <tr>\n",
       "      <th>2</th>\n",
       "      <td>3</td>\n",
       "      <td>14.02</td>\n",
       "      <td>2.59</td>\n",
       "      <td>4.01</td>\n",
       "      <td>72.80</td>\n",
       "      <td>0.89</td>\n",
       "      <td>2.72</td>\n",
       "      <td>4284.348574</td>\n",
       "    </tr>\n",
       "    <tr>\n",
       "      <th>3</th>\n",
       "      <td>4</td>\n",
       "      <td>17.67</td>\n",
       "      <td>6.75</td>\n",
       "      <td>2.63</td>\n",
       "      <td>39.81</td>\n",
       "      <td>1.08</td>\n",
       "      <td>1.88</td>\n",
       "      <td>5098.680869</td>\n",
       "    </tr>\n",
       "    <tr>\n",
       "      <th>4</th>\n",
       "      <td>5</td>\n",
       "      <td>17.52</td>\n",
       "      <td>4.57</td>\n",
       "      <td>3.18</td>\n",
       "      <td>10.94</td>\n",
       "      <td>1.51</td>\n",
       "      <td>1.90</td>\n",
       "      <td>3406.132832</td>\n",
       "    </tr>\n",
       "  </tbody>\n",
       "</table>\n",
       "</div>"
      ],
      "text/plain": [
       "   Well    Por  Perm    AI  Brittle   TOC    VR         Prod\n",
       "0     1  12.08  2.92  2.80    81.40  1.16  2.31  4165.196191\n",
       "1     2  12.38  3.53  3.22    46.17  0.89  1.88  3561.146205\n",
       "2     3  14.02  2.59  4.01    72.80  0.89  2.72  4284.348574\n",
       "3     4  17.67  6.75  2.63    39.81  1.08  1.88  5098.680869\n",
       "4     5  17.52  4.57  3.18    10.94  1.51  1.90  3406.132832"
      ]
     },
     "execution_count": 2,
     "metadata": {},
     "output_type": "execute_result"
    }
   ],
   "source": [
    "data = pd.read_csv('data/unconv.csv')\n",
    "data.head()"
   ]
  },
  {
   "cell_type": "markdown",
   "id": "58639b40",
   "metadata": {
    "id": "58639b40"
   },
   "source": [
    "## Практика: линейная регрессия по методу наименьших квадратов"
   ]
  },
  {
   "cell_type": "markdown",
   "id": "a90535b8",
   "metadata": {
    "id": "a90535b8"
   },
   "source": [
    "Для начала построим простейшую модель линейной регрессии, проанализируем результаты её работы и выберем наиболее значимые факторы для прогнозирования.\n",
    "\n",
    "В первой части вам предстоит выполнить задания 5.0–5.6. Максимальное количество баллов, которое можно получить, — 9."
   ]
  },
  {
   "cell_type": "markdown",
   "id": "4061b706",
   "metadata": {
    "id": "4061b706"
   },
   "source": [
    "### Задание 5.0. (не оценивается)\n",
    "\n",
    "Проведите небольшой разведывательный анализ, чтобы поближе познакомиться с исходными данными. Постройте несколько визуализаций, которые помогут вам понять, как устроены исходные признаки, а также смогут продемонстрировать взаимосвязь факторов. \n",
    "\n",
    "Сделайте промежуточные выводы из проведённого разведывательного анализа."
   ]
  },
  {
   "cell_type": "code",
   "execution_count": 3,
   "id": "daf1ccc7",
   "metadata": {
    "ExecuteTime": {
     "end_time": "2024-10-26T13:52:58.775784Z",
     "start_time": "2024-10-26T13:52:57.172276Z"
    },
    "id": "daf1ccc7"
   },
   "outputs": [
    {
     "name": "stdout",
     "output_type": "stream",
     "text": [
      "<class 'pandas.core.frame.DataFrame'>\n",
      "RangeIndex: 200 entries, 0 to 199\n",
      "Data columns (total 8 columns):\n",
      " #   Column   Non-Null Count  Dtype  \n",
      "---  ------   --------------  -----  \n",
      " 0   Well     200 non-null    int64  \n",
      " 1   Por      200 non-null    float64\n",
      " 2   Perm     200 non-null    float64\n",
      " 3   AI       200 non-null    float64\n",
      " 4   Brittle  200 non-null    float64\n",
      " 5   TOC      200 non-null    float64\n",
      " 6   VR       200 non-null    float64\n",
      " 7   Prod     200 non-null    float64\n",
      "dtypes: float64(7), int64(1)\n",
      "memory usage: 12.6 KB\n"
     ]
    },
    {
     "data": {
      "image/png": "[encoded data removed]",
      "text/plain": [
       "<Figure size 1500x1500 with 9 Axes>"
      ]
     },
     "metadata": {},
     "output_type": "display_data"
    },
    {
     "data": {
      "image/png": "[encoded data removed]",
      "text/plain": [
       "<Figure size 1000x600 with 1 Axes>"
      ]
     },
     "metadata": {},
     "output_type": "display_data"
    },
    {
     "data": {
      "image/png": "[encoded data removed]",
      "text/plain": [
       "<Figure size 1000x600 with 1 Axes>"
      ]
     },
     "metadata": {},
     "output_type": "display_data"
    },
    {
     "data": {
      "image/png": "[encoded data removed]",
      "text/plain": [
       "<Figure size 1000x600 with 1 Axes>"
      ]
     },
     "metadata": {},
     "output_type": "display_data"
    },
    {
     "data": {
      "image/png": "[encoded data removed]",
      "text/plain": [
       "<Figure size 1000x600 with 1 Axes>"
      ]
     },
     "metadata": {},
     "output_type": "display_data"
    },
    {
     "data": {
      "image/png": "[encoded data removed]",
      "text/plain": [
       "<Figure size 1000x600 with 1 Axes>"
      ]
     },
     "metadata": {},
     "output_type": "display_data"
    },
    {
     "data": {
      "image/png": "[encoded data removed]",
      "text/plain": [
       "<Figure size 1000x600 with 1 Axes>"
      ]
     },
     "metadata": {},
     "output_type": "display_data"
    },
    {
     "data": {
      "image/png": "[encoded data removed]",
      "text/plain": [
       "<Figure size 1000x600 with 1 Axes>"
      ]
     },
     "metadata": {},
     "output_type": "display_data"
    },
    {
     "data": {
      "image/png": "[encoded data removed]",
      "text/plain": [
       "<Figure size 1000x600 with 1 Axes>"
      ]
     },
     "metadata": {},
     "output_type": "display_data"
    }
   ],
   "source": [
    "data.info()\n",
    "data.describe()\n",
    "data.hist(bins=30, figsize=(15, 15), color='steelblue')\n",
    "plt.suptitle('Распределение числовых переменных')\n",
    "plt.show()\n",
    "\n",
    "# Проведём анализ выбросов во всех числовых переменных\n",
    "def analyze_outliers(df):\n",
    "    # Отбираем только числовые столбцы\n",
    "    numeric_columns = df.select_dtypes(include=['float64', 'int64']).columns\n",
    "    \n",
    "    # Построение boxplot для каждого числового столбца\n",
    "    for column in numeric_columns:\n",
    "        plt.figure(figsize=(10, 6))\n",
    "        sns.boxplot(data=df[column], orient='h')\n",
    "        plt.title(f'Анализ выбросов для переменной {column}')\n",
    "        plt.show()\n",
    "        \n",
    "# Анализ выбросов для всех числовых переменных\n",
    "analyze_outliers(data)\n",
    "\n",
    "# Промежуточные выводы\n",
    "# Все параметры (Well не считаем) близки к нормальному распределению, включая наш целевой показатель Prod\n",
    "# У Perm, AI и VR есть выбросы\n"
   ]
  },
  {
   "cell_type": "markdown",
   "id": "d11cb44f",
   "metadata": {
    "id": "d11cb44f"
   },
   "source": [
    "### Задание 5.1. (2 балла)\n",
    "\n",
    "Постройте корреляционную матрицу факторов, включив в неё целевой признак. \n",
    "\n",
    "Для наглядности визуализируйте полученную матрицу с помощью тепловой карты. \n",
    "\n",
    "**Примечание.** *Для визуализации вы можете использовать любую из знакомых вам библиотек.*\n",
    "\n",
    "На основе построенной корреляционной матрицы ответьте на следующий вопрос:\n",
    "\n",
    "* Какие факторы сильнее всего коррелируют с целевой переменной?\n",
    "\n",
    "Вычислите ранг и определитель полученной матрицы корреляций и приведите развёрнутые ответы на следующие вопросы:\n",
    "* Является ли корреляционная матрица плохо обусловенной (близок ли её опредитель к нулю)?\n",
    "* Что вы можете сказать о наличии коллинераности/мультиколлинеарности в данных? \n",
    "* Применима ли в данном случае модель классической линейной регрессии по методу наименьших квадратов и почему? "
   ]
  },
  {
   "cell_type": "markdown",
   "id": "57OjUl5e2oiL",
   "metadata": {
    "id": "57OjUl5e2oiL"
   },
   "source": [
    "**Критерии оценивания:**\n",
    "- Задание выполнено верно, учтены все условия (**2 балла**): \n",
    "    * приведён код для расчёта корреляционной матрицы;\n",
    "    * приведён код для визуализации корреляционной матрицы в виде тепловой карты;\n",
    "    * рассчитаны ранг и определитель корреляционной матрицы;\n",
    "    * предоставлены обоснованные ответы на все поставленные вопросы. \n",
    "\n",
    "- Задание выполнено верно, но не учтено одно условие (**1 балл**).\n",
    "- Задание выполнено неверно, не учтено несколько условий (**0 баллов**)."
   ]
  },
  {
   "cell_type": "code",
   "id": "af00a5a0",
   "metadata": {
    "id": "af00a5a0",
    "ExecuteTime": {
     "end_time": "2024-10-26T20:53:09.158234Z",
     "start_time": "2024-10-26T20:53:08.996682Z"
    }
   },
   "source": [
    "arr = data.to_numpy()\n",
    "\n",
    "# Центрирование данных\n",
    "mean = np.mean(arr, axis=0)\n",
    "data_centered = arr - mean\n",
    "\n",
    "# Вычисляем ковариационную матрицу\n",
    "n_samples = arr.shape[0]\n",
    "cov_matrix = np.dot(data_centered.T, data_centered) / (n_samples - 1)\n",
    "\n",
    "# Вычисляем корреляционную матрицу\n",
    "std_dev = np.std(arr, axis=0, ddof=1)\n",
    "std_matrix = np.outer(std_dev, std_dev)\n",
    "corr = cov_matrix / std_matrix\n",
    "\n",
    "styled_corr = pd.DataFrame(corr).round(2).style.background_gradient(cmap='RdYlGn')\n",
    "styled_corr.to_html('styled_corr.html')\n",
    "\n",
    "rank = np.linalg.matrix_rank(corr)\n",
    "print(f'ранг матрицы: {rank}')\n",
    "\n",
    "determinant = np.linalg.det(corr)\n",
    "print(f'определитель матрицы: {determinant}')\n",
    "\n",
    "# Сверим нашу корреляционную матрицу с автоматически посчитанной\n",
    "corr_auto = data.corr(numeric_only=True).round(2)\n",
    "styled_corr_auto = corr_auto.style.background_gradient(cmap='RdYlGn')\n",
    "styled_corr_auto.to_html('styled_corr_auto.html')\n",
    "\n",
    "plt.figure(figsize=(10, 8))\n",
    "sns.heatmap(corr_auto, annot=True, cmap='coolwarm')\n",
    "plt.title('Корреляционная матрица числовых признаков')\n",
    "plt.show()\n"
   ],
   "outputs": [
    {
     "name": "stdout",
     "output_type": "stream",
     "text": [
      "ранг матрицы: 8\n",
      "определитель матрицы: 0.000729938807265194\n"
     ]
    },
    {
     "data": {
      "text/plain": [
       "<Figure size 1000x800 with 2 Axes>"
      ],
      "image/png": "[encoded data removed]"
     },
     "metadata": {},
     "output_type": "display_data"
    }
   ],
   "execution_count": 82
  },
  {
   "cell_type": "markdown",
   "id": "9a56013d",
   "metadata": {
    "id": "9a56013d"
   },
   "source": [
    "### Выводы по матрице коллеряции\n",
    "\n",
    "- Корреляционная матрица является плохо обусловенной, поскольку её опредитель близок к нулю. То есть матрица почти вырожденная.\n",
    "- Мультиколлинеарность наблюдается у признаков: Por и Perm (0,76), Por и TOC (0,71)\n",
    "\n",
    "Применение линейной регрессии методом наименьших квадратов не рекомендуется в ситуации с сильной мультиколлинеарностью и малым определителем матрицы признаков, поскольку это приведет к нестабильности оценок коэффициентов и низкой точности модели.\n",
    "\n",
    "При построении линейной регрессии методом наименьших квадратов необходимо вычислять обратную матрицу. \n",
    "Если определитель матрицы близок к нулю, матрица почти вырожденная, и ее обратная матрица либо не существует, либо вычисляется с большой ошибкой. \n",
    "И вычисления становятся ненадежными из-за ошибок округления.\n",
    "\n",
    "Последствия мультиколлинеарности:\n",
    "- Нестабильность оценок коэффициентов: Коэффициенты становятся чувствительными к небольшим изменениям в данных.\n",
    "- Высокие стандартные ошибки: Это приводит к снижению статистической значимости коэффициентов.\n",
    "- Трудности в интерпретации модели: Трудно определить влияние отдельных признаков на целевую переменную.\n",
    "\n",
    "Корреляция с Prod: Por и Perm сильная (более 0,73), TOC умеренная (0,65), AI умеренная отрицательная (-0,39)"
   ]
  },
  {
   "cell_type": "markdown",
   "id": "43fd91c4",
   "metadata": {
    "id": "43fd91c4"
   },
   "source": [
    "### Задание 5.2. (2 балла)\n",
    "\n",
    "Создайте матрицу наблюдений `X` и вектор правильных ответов `y`. В качестве факторов для матрицы наблюдений возьмите все имеющиеся в данных признаки. \n",
    "\n",
    "Постройте модель линейной регрессии по методу наименьших квадратов. Для этого воспользуйтесь матричной формулой МНК и инструментарием библиотеки numpy. \n",
    "\n",
    "Выведите на экран полученные оценки коэффициентов модели, округлённые до целого.\n",
    "\n",
    "Приведите подробные выводы по полученным результатам, ответив на следующие вопросы:\n",
    "* Есть ли в ваших данных признаки, которые, согласно модели, можно назвать неинформативными, то есть они не оказывают влияния на целевую переменную или оказывают шумовое влияние?\n",
    "* Приведите интерпретацию нескольких (двух или трёх) коэффициентов полученной модели линейной регрессии.\n"
   ]
  },
  {
   "cell_type": "markdown",
   "id": "QtNtTUzI4Cpq",
   "metadata": {
    "id": "QtNtTUzI4Cpq"
   },
   "source": [
    "**Критерии оценивания:**\n",
    "- Задание выполнено верно, учтены все условия (**2 балла**): \n",
    "    * приведён код для нахождения параметров модели линейной регрессии с помощью матричной формулы МНК;\n",
    "    * на основе полученных параметров даны верные ответы на поставленные вопросы;\n",
    "    * приведена корректная интерпретация нескольких коэффициентов полученной модели линейной регрессии.\n",
    "\n",
    "- Задание выполнено верно, но не учтено одно из условий (**1 балл**).\n",
    "- Задание выполнено неверно, не учтено несколько условий (**0 баллов**)."
   ]
  },
  {
   "cell_type": "code",
   "execution_count": 34,
   "id": "5724288c",
   "metadata": {
    "ExecuteTime": {
     "end_time": "2024-10-26T16:56:38.638102Z",
     "start_time": "2024-10-26T16:56:38.630733Z"
    },
    "id": "5724288c"
   },
   "outputs": [
    {
     "name": "stdout",
     "output_type": "stream",
     "text": [
      "     Prod\n",
      "0 -1232.0\n",
      "1     0.0\n",
      "2   230.0\n",
      "3   116.0\n",
      "4  -365.0\n",
      "5    25.0\n",
      "6   -78.0\n",
      "7   785.0\n"
     ]
    }
   ],
   "source": [
    "arr = data.drop(columns=['Prod']).to_numpy()\n",
    "A = np.hstack((np.ones((arr.shape[0], 1)), arr))\n",
    "y = data[['Prod']]\n",
    "# вычислим OLS-оценку для коэффициентов\n",
    "w_hat = np.linalg.inv(A.T @ A) @ A.T @ y\n",
    "w_hat_rounded = np.round(w_hat)\n",
    "print(w_hat_rounded)"
   ]
  },
  {
   "cell_type": "markdown",
   "id": "bab9ee21",
   "metadata": {
    "id": "bab9ee21"
   },
   "source": [
    "## Выводы по коэффициентам линейной регрессии\n",
    "- 0 индекс - это свободный член или интерсепт, и задает базовый уровень целевого признака (ЦП)\n",
    "- признак с индексом 1 не влияет на ЦП и является неинформативными\n",
    "- с признаками 2,3,5,7 существует прямая зависимость с ЦП\n",
    "- с признаками 4,6 существует обратная зависимость с ЦП\n",
    "- признаки 3,5 и 6 возможно оказывают шумовое влияние на ЦП, но точно можно будет сказать только после нормирования признаков. \n",
    "\n",
    "Какой признак больше влияет на ЦП пока сказать сложно, поскольку мы не нормировали значения самих признаков"
   ]
  },
  {
   "cell_type": "markdown",
   "id": "4a05a4ac",
   "metadata": {
    "id": "4a05a4ac"
   },
   "source": [
    "### Задание 5.3. (1 балл)\n",
    "\n",
    "Теперь потренируемся строить предсказание для наблюдений целевой переменной. \n",
    "\n",
    "**а)** Постройте прогноз выработки газа для скважины со следующими параметрами:\n",
    "\n",
    "```python\n",
    "{\n",
    "    'Well': 106.0,\n",
    "    'Por': 15.32,\n",
    "    'Perm': 3.71,\n",
    "    'AI': 3.29,\n",
    "    'Brittle': 55.99,\n",
    "    'TOC': 1.35,\n",
    "    'VR': 2.42\n",
    " }\n",
    "```\n",
    "\n",
    "Рассчитайте абсолютную ошибку построенного вами прогноза для предложенной скважины (в миллионах кубических футов в день), если известно, что на этой скважине производится `4748.315024` миллионов кубических футов газа в день. \n",
    "\n",
    "**б)** Постройте прогноз выработки газа для всех скважин из обучающего набора данных. Выберите метрику, по которой вы будете оценивать качество регрессионных моделей и сравнивать их между собой (можно использовать несколько метрик, но не более двух).\n",
    "\n",
    "Рассчитайте значение выбранной метрики для вашей модели. Приведите интерпретацию полученного результата. "
   ]
  },
  {
   "cell_type": "markdown",
   "id": "qUDcep5Q5GWU",
   "metadata": {
    "id": "qUDcep5Q5GWU"
   },
   "source": [
    "**Критерии оценивания:**\n",
    "- Задание выполнено верно, учтены все условия (**1 балл**): \n",
    "    * приведён код для построения прогноза выработки газа на указанной скважине и рассчитана абсолютная ошибка прогноза для этой скважины;\n",
    "    * выбрана корректная для поставленной задачи метрика (или метрики) оценки качества модели и приведён код для расчёта этой метрики на всём обучающем наборе данных;\n",
    "    * приведена корректная интерпретация полученного результата.\n",
    "\n",
    "- Задание выполнено верно, но не учтено одно из условий, или задание выполнено неверно (**0 баллов**)."
   ]
  },
  {
   "cell_type": "code",
   "execution_count": 51,
   "id": "e4291db0",
   "metadata": {
    "ExecuteTime": {
     "end_time": "2024-10-26T18:02:45.324674Z",
     "start_time": "2024-10-26T18:02:45.313898Z"
    },
    "id": "e4291db0"
   },
   "outputs": [
    {
     "name": "stdout",
     "output_type": "stream",
     "text": [
      "a) y_pred = 4715.26\n",
      "a) AE = 33.0\n",
      "б) MAE = 154.0\n",
      "б) RMSE = 198.0\n",
      "б) RMSE - MAE = 45.0\n",
      "б) Среднее значение реального целевого признака = 4311.0\n",
      "б) Отклонение MAE в % от среднего значения реального целевого признака = 4.0\n",
      "б) Отклонение RMSE в % от среднего значения реального целевого признака = 5.0\n"
     ]
    }
   ],
   "source": [
    "# Рассчитаем прогнозное значение для новой скважины\n",
    "new_arr = np.array(list({\n",
    "    'Well': 106.0,\n",
    "    'Por': 15.32,\n",
    "    'Perm': 3.71,\n",
    "    'AI': 3.29,\n",
    "    'Brittle': 55.99,\n",
    "    'TOC': 1.35,\n",
    "    'VR': 2.42\n",
    " }.values())) \n",
    "new_A = np.hstack(([1], new_arr))\n",
    "y_pred = new_A @ w_hat_rounded\n",
    "print(f'a) y_pred = {y_pred.tolist()[0]}')\n",
    "\n",
    "# Рассчитаем абсолютную ошибку (AE) при y_true = 4748.315024\n",
    "y_true = 4748.315024\n",
    "ae = np.abs(y_pred - y_true)\n",
    "print(f'a) AE = {np.round(ae.tolist()[0])}')\n",
    "\n",
    "# Рассчитаем прогнозные значения для всех скважин из тренировочного набора\n",
    "y_pred = A @ w_hat\n",
    "\n",
    "# Для оценки качества регрессионной модели возьмём 2 метрики: среднюю абсолютную ошибку (MAE) и корень среднеквадратической ошибки (RMSE)\n",
    "y_true = y\n",
    "mae = np.mean(np.abs(y_pred - y_true))\n",
    "print(f'б) MAE = {np.round(mae)}')\n",
    "\n",
    "mse = np.mean((y_pred - y_true) ** 2)\n",
    "rmse = np.sqrt(mse)\n",
    "print(f'б) RMSE = {np.round(rmse)}')\n",
    "\n",
    "# Найдём разницу между RMSE и MAE поскольку у них одинаковые единицы измерения, что удобно для интерпретации\n",
    "print(f'б) RMSE - MAE = {np.round(rmse - mae)}')\n",
    "y_true_mean = np.round(np.mean(y_true))\n",
    "print(f'б) Среднее значение реального целевого признака = {y_true_mean}')\n",
    "print(f'б) Отклонение MAE в % от среднего значения реального целевого признака = {np.round(mae / y_true_mean * 100)}')\n",
    "print(f'б) Отклонение RMSE в % от среднего значения реального целевого признака = {np.round(rmse / y_true_mean * 100)}')"
   ]
  },
  {
   "cell_type": "markdown",
   "id": "c9bee4bc",
   "metadata": {
    "id": "c9bee4bc"
   },
   "source": [
    "## Интерпретация полученного результата\n",
    "\n",
    "RMSE использовать для оценки предпочтительнее, если:\n",
    "- если важно сильно штрафовать большие ошибки\n",
    "- если ошибки имеют нормальное распределение\n",
    "- когда модель должна быть более точной в предсказании больших значений отклонения\n",
    "\n",
    "MAE использовать для оценки предпочтительнее, если:\n",
    "- если данные содержат выбросы, и вы не хотите, чтобы они сильно влияли на оценку модели\n",
    "- если важна средняя ошибка без акцента на большие отклонения\n",
    "- когда распределение ошибок является не нормальным\n",
    "\n",
    "В нашей модели MAE и RMSE находятся в диапозоне 5% от среднего значения реального целевого признака,<br>\n",
    "что можно считать достаточно точной моделью предсказания для наших тренировочных целей.\n",
    "\n",
    "RMSE больше MAE на 45 единиц, поскольку в данных присутствуют выбросы, к которым метрики MSE и RMSE более чувствительны, чем MAE"
   ]
  },
  {
   "cell_type": "markdown",
   "id": "0c25c3aa",
   "metadata": {
    "id": "0c25c3aa"
   },
   "source": [
    "### Задание 5.4. (1 балл)\n",
    "\n",
    "Настало время анализа построенной модели. Посмотрите на коэффициенты и сравните их знаки со значениями выборочных корреляций между целевым признаком и факторами, которые вы нашли ранее.\n",
    "\n",
    "Дайте развёрнутые ответы на следующие вопросы:\n",
    "\n",
    "* Есть ли в вашей модели фактор, при котором коэффициент в модели линейной регрессии противоречит соответствующему коэффициенту корреляции? Например, корреляция говорит, что зависимость между фактором и целевой переменной прямая, а модель говорит обратное. Если таких факторов несколько, укажите их все.\n",
    "* Как вы считаете, с чем связано полученное противоречие результатов?"
   ]
  },
  {
   "cell_type": "markdown",
   "id": "ngJ3UdYb6Ll6",
   "metadata": {
    "id": "ngJ3UdYb6Ll6"
   },
   "source": [
    "**Критерии оценивания:**\n",
    "\n",
    "- Задание выполнено верно, даны корректные развёрнутые ответы на все поставленные в задании вопросы (**1 балл**). \n",
    "\n",
    "- Задание выполнено неверно, даны некорректные ответы на один или несколько поставленных в задании вопросов (**0 баллов**)."
   ]
  },
  {
   "cell_type": "code",
   "id": "v-zIxRPY9wK7",
   "metadata": {
    "id": "v-zIxRPY9wK7",
    "ExecuteTime": {
     "end_time": "2024-10-26T20:55:42.203257Z",
     "start_time": "2024-10-26T20:55:42.196059Z"
    }
   },
   "source": [
    "w_corr = corr_auto[['Prod']]\n",
    "w_corr = w_corr.shift(periods=1)\n",
    "corr_y = np.hstack((w_hat_rounded, w_corr))\n",
    "corr_y"
   ],
   "outputs": [
    {
     "data": {
      "text/plain": [
       "array([[-1.232e+03,        nan],\n",
       "       [ 0.000e+00,  3.000e-02],\n",
       "       [ 2.300e+02,  8.600e-01],\n",
       "       [ 1.160e+02,  7.300e-01],\n",
       "       [-3.650e+02, -3.900e-01],\n",
       "       [ 2.500e+01,  2.400e-01],\n",
       "       [-7.800e+01,  6.500e-01],\n",
       "       [ 7.850e+02,  3.200e-01]])"
      ]
     },
     "execution_count": 83,
     "metadata": {},
     "output_type": "execute_result"
    }
   ],
   "execution_count": 83
  },
  {
   "cell_type": "markdown",
   "id": "qeowwIp99yBf",
   "metadata": {
    "id": "qeowwIp99yBf"
   },
   "source": [
    "## Выводы по сравнению корреляции признаков и найденными весами\n",
    "\n",
    "Под индексом 0 указан интерсепт, который отсутствует в корреляционной матрице, поэтому его сравнивать не будем.\n",
    "\n",
    "Признак под индексом 6 (наименование TOC) — единственный, где наблюдается противоречие: коэффициент линейной регрессии отрицательный, а корреляция положительная.\n",
    "\n",
    "Предположу, что поскольку TOC мультиколлинеарен с Por, а Por имеет большее влияние на целевой признак (0,86 против 0,65), <br>\n",
    "то коэффициент признака Por сильно перекрывает своим влиянием признак TOC, снижая коэффициент последнего до отрицательного значения.\n",
    "\n"
   ]
  },
  {
   "cell_type": "markdown",
   "id": "9cea9195",
   "metadata": {
    "id": "9cea9195"
   },
   "source": [
    "### Задание 5.5. (2 балла)\n",
    "\n",
    "* Исключите из данных сильно коррелированные между собой факторы. Под сильной корреляцией в данной задаче будем понимать значения выше `0.7`.\n",
    "\n",
    "Выбирая, какой из коррелированных факторов оставить, руководствуйтесь коэффициентом корреляции с целевой переменной: оставляйте тот фактор, который больше всего коррелирует с целевой переменной (объёмом добычи газа).\n",
    "\n",
    "* Также исключите из данных факторы, для которых корреляция с целевой переменной меньше `0.05`.\n",
    "\n",
    "Постройте модель линейной регрессии на обновлённых после удаления факторов данных по методу наименьших квадратов. Для этого используйте матричную формулу и библиотеку numpy. Выведите значение полученных коэффициентов, округлённых до целого.\n",
    "\n",
    "Сделайте прогноз для всего обучающего набора данных и рассчитайте выбранную вами ранее метрику (или метрики). \n",
    "\n",
    "Дайте подробные ответы на следующие вопросы:\n",
    "\n",
    "* Приведите интерпретацию нескольких полученных коэффициентов (двух или трёх). Сравните их значения с полученными ранее.\n",
    "* Приведите интерпретацию полученных значений метрик. Сравните их значения с полученными ранее. \n",
    "* Удалось ли вам побороть противоречие коэффициентов линейной регрессии и коэффициентов корреляции?"
   ]
  },
  {
   "cell_type": "markdown",
   "id": "vlUYVjJP6oXN",
   "metadata": {
    "id": "vlUYVjJP6oXN"
   },
   "source": [
    "**Критерии оценивания:**\n",
    "- Задание выполнено верно, учтены все условия (**2 балла**): \n",
    "    * отобраны верные факторы;\n",
    "    * на основе отобранных факторов построена модель линейной регрессии с помощью матричной формулы МНК и найдены параметры модели, соответствующие каждому из факторов;\n",
    "    * построен прогноз для всего обучающего набора данных и рассчитано значение метрики (метрика должна быть выбрана корректно);\n",
    "    * даны ответы на все поставленные в задании вопросы.\n",
    "\n",
    "- Задание выполнено верно, но не учтено одно из условий (**1 балл**).\n",
    "- Задание выполнено верно, не учтено несколько из условий (**0 баллов**)."
   ]
  },
  {
   "cell_type": "code",
   "id": "5d5ZJ0lX_UHe",
   "metadata": {
    "id": "5d5ZJ0lX_UHe",
    "ExecuteTime": {
     "end_time": "2024-10-26T21:27:14.594650Z",
     "start_time": "2024-10-26T21:27:14.581417Z"
    }
   },
   "source": [
    "# Мультиколлинеарность наблюдается у признаков: Por и Perm (0,76), Por и TOC (0,71)\n",
    "# В обоих случаях Por имеет большее влияние на целевой признак, поэтому удалим Perm и TOC\n",
    "# Также удалим Well, поскольку его корреляция с целевым признаком меньше 0,05\n",
    "arr = data.drop(columns=['Perm', 'TOC', 'Well', 'Prod']).to_numpy()\n",
    "A = np.hstack((np.ones((arr.shape[0], 1)), arr))\n",
    "y = data[['Prod']]\n",
    "# вычислим OLS-оценку для коэффициентов\n",
    "w_hat = np.linalg.inv(A.T @ A) @ A.T @ y\n",
    "w_hat_rounded = np.round(w_hat)\n",
    "print(w_hat_rounded)\n",
    "\n",
    "# Рассчитаем прогнозные значения для всех скважин из тренировочного набора\n",
    "y_pred = A @ w_hat\n",
    "\n",
    "# Для оценки качества регрессионной модели возьмём 2 метрики: среднюю абсолютную ошибку (MAE) и корень среднеквадратической ошибки (RMSE)\n",
    "y_true = y\n",
    "mae = np.mean(np.abs(y_pred - y_true))\n",
    "print(f'MAE = {np.round(mae)}')\n",
    "\n",
    "mse = np.mean((y_pred - y_true) ** 2)\n",
    "rmse = np.sqrt(mse)\n",
    "print(f'RMSE = {np.round(rmse)}')\n",
    "\n",
    "# Найдём разницу между RMSE и MAE поскольку у них одинаковые единицы измерения, что удобно для интерпретации\n",
    "print(f'RMSE - MAE = {np.round(rmse - mae)}')\n",
    "y_true_mean = np.round(np.mean(y_true))\n",
    "print(f'Среднее значение реального целевого признака = {y_true_mean}')\n",
    "print(f'Отклонение MAE в % от среднего значения реального целевого признака = {np.round(mae / y_true_mean * 100)}')\n",
    "print(f'Отклонение RMSE в % от среднего значения реального целевого признака = {np.round(rmse / y_true_mean * 100)}')\n",
    "\n",
    "w_corr = corr_auto.drop(['Perm', 'TOC', 'Well'])[['Prod']]\n",
    "w_corr = w_corr.shift(periods=1)\n",
    "corr_y = np.hstack((w_hat_rounded, w_corr))\n",
    "corr_y"
   ],
   "outputs": [
    {
     "name": "stdout",
     "output_type": "stream",
     "text": [
      "     Prod\n",
      "0 -1835.0\n",
      "1   293.0\n",
      "2  -200.0\n",
      "3    28.0\n",
      "4   517.0\n",
      "MAE = 171.0\n",
      "RMSE = 232.0\n",
      "RMSE - MAE = 60.0\n",
      "Среднее значение реального целевого признака = 4311.0\n",
      "Отклонение MAE в % от среднего значения реального целевого признака = 4.0\n",
      "Отклонение RMSE в % от среднего значения реального целевого признака = 5.0\n"
     ]
    },
    {
     "data": {
      "text/plain": [
       "array([[-1.835e+03,        nan],\n",
       "       [ 2.930e+02,  8.600e-01],\n",
       "       [-2.000e+02, -3.900e-01],\n",
       "       [ 2.800e+01,  2.400e-01],\n",
       "       [ 5.170e+02,  3.200e-01]])"
      ]
     },
     "execution_count": 86,
     "metadata": {},
     "output_type": "execute_result"
    }
   ],
   "execution_count": 86
  },
  {
   "cell_type": "markdown",
   "id": "KxbYvMDo_WLe",
   "metadata": {
    "id": "KxbYvMDo_WLe"
   },
   "source": [
    "## Выводы по сравнению корреляции признаков и найденными весами\n",
    "- После удаления факторов Perm, TOC и Well, коэффициенты линейной регрессии стали более стабильными и интерпретируемыми и их суммарный вес уменьшился (интерсепт не считаем), что говорит о том, что модель стала более устойчивой.\n",
    "- Признаки с индексами 1, 3, 4 имеют прямую зависимость с целевым признаком, что соответствует корреляции.\n",
    "- Признак с индексом 2 имеет обратную зависимость с целевым признаком, что соответствует корреляции.\n",
    "- Противоречие между коэффициентами линейной регрессии и коэффициентами корреляции было устранено\n",
    "- Хоть RMSE и MAE увеличились после удаления факторов, но они все равно находятся в диапозоне 5% от среднего значения реального целевого признака, что можно считать достаточно точной моделью предсказания для наших тренировочных целей.\n",
    "- Увеличение MAE и RMSE после удаления факторов связано с тем, что мы удалили факторы, которые могли улучшить предсказательную способность модели, но при этом они были сильно коррелированы с другими факторами, что приводило к мультиколлинеарности и нестабильности оценок коэффициентов."
   ]
  },
  {
   "cell_type": "markdown",
   "id": "7d50db12",
   "metadata": {
    "id": "7d50db12"
   },
   "source": [
    "### Задание 5.6. (1 балл)\n",
    "\n",
    "Наконец, давайте построим модель линейной регрессии из библиотеки `scikit-learn (sklearn)` и сравним результаты её работы с теми, что нам удалось получить вручную. \n",
    "\n",
    "Постройте модель линейной регрессии на обновлённых после удаления факторов данных по методу наименьших квадратов. Для этого воспользуйтесь классом `LinearRegression` из библиотеки `sklearn`. Выведите значения полученных коэффициентов, округлённые до целого.\n",
    "\n",
    "Сделайте прогноз для всего обучающего набора данных и рассчитайте значение выбранной вами метрики (или метрик).\n",
    "\n",
    "Сравните результаты библиотечной реализации с тем, что вы получили ранее. "
   ]
  },
  {
   "cell_type": "markdown",
   "id": "emu5D3w278JP",
   "metadata": {
    "id": "emu5D3w278JP"
   },
   "source": [
    "**Критерии оценивания:**\n",
    "\n",
    "- Задание выполнено верно, учтены все условия (**1 балл**): \n",
    "    * на основе отобранных факторов построена модель линейной регрессии из библиотеки sklearn и найдены параметры модели, соответствующие каждому из факторов;\n",
    "    * построен прогноз для всего обучающего набора данных и рассчитано значение метрики (метрика должна быть выбрана корректно);\n",
    "    * приведён вывод о соответствии результатов, полученных вручную и с помощью библиотеки.\n",
    "- Задание выполнено неверно, не учтено одно или несколько условий (**0 баллов**)."
   ]
  },
  {
   "cell_type": "code",
   "id": "Gpdpfq59AKGu",
   "metadata": {
    "id": "Gpdpfq59AKGu",
    "ExecuteTime": {
     "end_time": "2024-10-27T18:26:05.598862Z",
     "start_time": "2024-10-27T18:26:05.561772Z"
    }
   },
   "source": [
    "from sklearn.linear_model import LinearRegression\n",
    "from sklearn.metrics import mean_absolute_error, mean_squared_error, mean_absolute_percentage_error\n",
    "\n",
    "model = LinearRegression()\n",
    "x_train = data.drop(columns=['Perm', 'TOC', 'Well', 'Prod'])\n",
    "y_true = data[['Prod']]\n",
    "model.fit(x_train, y_true)\n",
    "y_pred = model.predict(x_train)\n",
    "\n",
    "# Выведем коэффициенты модели\n",
    "w_hat = np.hstack((model.intercept_, model.coef_[0]))\n",
    "w_hat_rounded = np.round(w_hat)\n",
    "print(w_hat_rounded)\n",
    "\n",
    "# Для оценки качества регрессионной модели возьмём 2 метрики: среднюю абсолютную ошибку (MAE) и корень среднеквадратической ошибки (RMSE)\n",
    "mae = mean_absolute_error(y_true, y_pred)\n",
    "print(f'MAE = {np.round(mae)}')\n",
    "\n",
    "mse = mean_squared_error(y_true, y_pred)\n",
    "rmse = np.sqrt(mse)\n",
    "print(f'RMSE = {np.round(rmse)}')\n",
    "\n",
    "\n",
    "\n",
    "# Найдём разницу между RMSE и MAE поскольку у них одинаковые единицы измерения, что удобно для интерпретации\n",
    "print(f'RMSE - MAE = {np.round(rmse - mae)}')\n",
    "y_true_mean = np.round(np.mean(y_true))\n",
    "print(f'Среднее значение реального целевого признака = {y_true_mean}')\n",
    "print(f'Отклонение MAE в % от среднего значения реального целевого признака = {np.round(mae / y_true_mean * 100)}')\n",
    "print(f'Отклонение RMSE в % от среднего значения реального целевого признака = {np.round(rmse / y_true_mean * 100)}')\n",
    "\n",
    "\n",
    "# Для задания 8.5 возьмём ещё метрику MAPE\n",
    "# Определяем словарь с метриками\n",
    "scoring = {\n",
    "    'MAE': 'neg_mean_absolute_error',\n",
    "    'RMSE': 'neg_root_mean_squared_error',\n",
    "    'MAPE': 'neg_mean_absolute_percentage_error'\n",
    "}\n",
    "\n",
    "# оцениваем качество модели на кросс-валидации\n",
    "from sklearn.model_selection import cross_validate\n",
    "cv_results = cross_validate(model, x_train, y_true, scoring=scoring, cv=5, return_train_score=True)\n",
    "\n",
    "\n",
    "# Выводим результаты для MAE\n",
    "print('MAE на тренировочных фолдах: {:.2f}'.format(-cv_results['train_MAE'].mean()))\n",
    "print('MAE на валидационных фолдах: {:.2f}'.format(-cv_results['test_MAE'].mean()))\n",
    "\n",
    "# Выводим результаты для RMSE\n",
    "print('RMSE на тренировочных фолдах: {:.2f}'.format(-cv_results['train_RMSE'].mean()))\n",
    "print('RMSE на валидационных фолдах: {:.2f}'.format(-cv_results['test_RMSE'].mean()))\n",
    "\n",
    "# Выводим результаты для MAPE\n",
    "print('MAPE на тренировочных фолдах: {:.2f} %'.format(-cv_results['train_MAPE'].mean()* 100))\n",
    "print('MAPE на валидационных фолдах: {:.2f} %'.format(-cv_results['test_MAPE'].mean() * 100))"
   ],
   "outputs": [
    {
     "name": "stdout",
     "output_type": "stream",
     "text": [
      "[-1835.   293.  -200.    28.   517.]\n",
      "MAE = 171.0\n",
      "RMSE = 232.0\n",
      "RMSE - MAE = 60.0\n",
      "Среднее значение реального целевого признака = 4311.0\n",
      "Отклонение MAE в % от среднего значения реального целевого признака = 4.0\n",
      "Отклонение RMSE в % от среднего значения реального целевого признака = 5.0\n",
      "MAE на тренировочных фолдах: 170.50\n",
      "MAE на валидационных фолдах: 179.02\n",
      "RMSE на тренировочных фолдах: 230.36\n",
      "RMSE на валидационных фолдах: 240.21\n",
      "MAPE на тренировочных фолдах: 4.02 %\n",
      "MAPE на валидационных фолдах: 4.23 %\n"
     ]
    }
   ],
   "execution_count": 106
  },
  {
   "cell_type": "markdown",
   "id": "WT9cdHAbAMG7",
   "metadata": {
    "id": "WT9cdHAbAMG7"
   },
   "source": [
    "## Выводы по сравнению результатов библиотечной и ручной реализации\n",
    "- Результаты, полученные библиотечной реализацией, совпадают с результатами, полученными вручную, что говорит о корректности построения модели.\n",
    "- Метрики MAE и RMSE, полученные библиотечной реализацией, также совпадают с результатами, полученными вручную, что говорит о корректности оценки качества модели.\n",
    "- Библиотечная реализация позволяет построить модель линейной регрессии быстрее и удобнее, чем ручная реализация, поэтому в дальнейшем лучше использовать библиотечные инструменты для построения моделей."
   ]
  },
  {
   "cell_type": "markdown",
   "id": "5346338e",
   "metadata": {
    "id": "5346338e"
   },
   "source": [
    "## Практика: полиномиальная регрессия и регуляризация"
   ]
  },
  {
   "cell_type": "markdown",
   "id": "aad9e3a6",
   "metadata": {
    "id": "aad9e3a6"
   },
   "source": [
    "Мы продолжаем работать над задачей от владельца компании «Газ-Таз-Ваз-Нефть» Василия.\n",
    "\n",
    "Ранее мы построили модель линейной регрессии, которая прогнозирует выработку газа на скважине. Для этого мы с помощью матрицы корреляций и рассуждений отобрали некоррелированные, значимые для предсказания признаки. **Далее мы будем использовать именно их (см. задание 5.5).**\n",
    "\n",
    "Мы хотим улучшить результат — уменьшить ошибку прогноза. Для этого мы воспользуемся моделью полиномиальной регрессии третьей степени. Однако теперь мы знаем, что полиномиальным моделям очень легко переобучиться под исходную выборку. Так как данных у нас не так много (всего 200 скважин), то для контроля качества модели мы будем использовать кросс-валидацию. \n",
    "\n",
    "Приступим! Выполните задания 8.1–8.5:\n"
   ]
  },
  {
   "cell_type": "code",
   "execution_count": 10,
   "id": "18506d1b",
   "metadata": {
    "ExecuteTime": {
     "end_time": "2024-10-26T13:52:59.745933Z",
     "start_time": "2024-10-26T13:52:58.859916Z"
    },
    "id": "18506d1b"
   },
   "outputs": [],
   "source": [
    "from sklearn.preprocessing import PolynomialFeatures, StandardScaler\n",
    "from sklearn.linear_model import LinearRegression, Lasso, Ridge, ElasticNet\n",
    "from sklearn.model_selection import GridSearchCV\n",
    "from sklearn.model_selection import cross_validate"
   ]
  },
  {
   "metadata": {},
   "cell_type": "markdown",
   "source": [
    "### Задание 8.1. (1 балл)\n",
    "\n",
    "Стандаризируйте признаки с помощью `StandartScaler` из библиотеки `sklearn`. \n",
    "\n",
    "Затем сгенерируйте полиномиальные признаки третьего порядка на факторах, которые вы выбрали для обучения моделей. Для этого воспользуйтесь генератором полиномов `PolynomialFeatures` из библиотеки `sklearn`. Параметр `include_bias` установите в значение `False`.\n",
    "\n",
    "Выведите на экран, сколько факторов у вас получилось после генерации полиномиальных признаков.\n",
    "\n",
    "**Важно:** стандартизацию необходимо произвести до генерации полиномиальных факторов!\n",
    "\n",
    "Обучите модель линейной регрессии из библиотеки `sklearn` (`LinearRegression`) на полученных полиномиальных факторах.\n",
    "\n",
    "Используя кросс-валидацию оцените среднее значение выбранной вами метрики (или метрик) на тренировочных и валидационных фолдах.\n",
    "\n",
    "Проинтерпретируйте полученные результаты."
   ],
   "id": "66c9c5edf0d54430"
  },
  {
   "cell_type": "markdown",
   "id": "Y8oAhQkr8gV-",
   "metadata": {
    "id": "Y8oAhQkr8gV-"
   },
   "source": [
    "**Критерии оценивания:**\n",
    "\n",
    "- Задание выполнено верно, учтены все условия (**1 балл**): \n",
    "    * на основе отобранных факторов сгенерированы полиномиальные признаки третьего порядка;\n",
    "    * построена модель полиномиальной регрессии (линейной регрессии на полиномиальных признаках);\n",
    "    * с помощью кросс-валидации оценено среднее значение выбранной студентом метрики (или метрик) на тренировочных и валидационных фолдах (метрика должна быть выбрана корректно).\n",
    "- Задание выполнено неверно, не учтено одно или несколько из условий (**0 баллов**)."
   ]
  },
  {
   "cell_type": "code",
   "id": "-ln3bx8NFNRw",
   "metadata": {
    "id": "-ln3bx8NFNRw",
    "ExecuteTime": {
     "end_time": "2024-10-27T12:44:29.349807Z",
     "start_time": "2024-10-27T12:44:29.324386Z"
    }
   },
   "source": [
    "df = data\n",
    "\n",
    "# Выбираем признаки и целевую переменную\n",
    "X = df[['Por', 'AI', 'Brittle', 'VR']]\n",
    "y = df['Prod']\n",
    "\n",
    "# Инициализируем стандартизатор\n",
    "scaler = StandardScaler()\n",
    "\n",
    "# Стандартизируем признаки\n",
    "X_scaled = scaler.fit_transform(X)\n",
    "\n",
    "# Инициализируем генератор полиномиальных признаков\n",
    "poly = PolynomialFeatures(degree=3, include_bias=False)\n",
    "\n",
    "# Генерируем полиномиальные признаки\n",
    "X = poly.fit_transform(X_scaled)\n",
    "\n",
    "# Количество факторов после генерации полиномиальных признаков\n",
    "n_features = X.shape[1]\n",
    "\n",
    "print(f\"Количество факторов после генерации полиномиальных признаков: {n_features}\")\n",
    "\n",
    "# Создаем модель линейной регрессии\n",
    "lr = LinearRegression()\n",
    "\n",
    "# Определяем словарь с метриками\n",
    "scoring = {\n",
    "    'MAE': 'neg_mean_absolute_error',\n",
    "    'RMSE': 'neg_root_mean_squared_error',\n",
    "    'MAPE': 'neg_mean_absolute_percentage_error'\n",
    "}\n",
    "\n",
    "# оцениваем качество модели на кросс-валидации\n",
    "cv_results = cross_validate(lr, X, y, scoring=scoring, cv=5, return_train_score=True)\n",
    "\n",
    "\n",
    "# Выводим результаты для MAE\n",
    "print('MAE на тренировочных фолдах: {:.2f}'.format(-cv_results['train_MAE'].mean()))\n",
    "print('MAE на валидационных фолдах: {:.2f}'.format(-cv_results['test_MAE'].mean()))\n",
    "\n",
    "# Выводим результаты для RMSE\n",
    "print('RMSE на тренировочных фолдах: {:.2f}'.format(-cv_results['train_RMSE'].mean()))\n",
    "print('RMSE на валидационных фолдах: {:.2f}'.format(-cv_results['test_RMSE'].mean()))\n",
    "\n",
    "# Выводим результаты для MAPE\n",
    "print('MAPE на тренировочных фолдах: {:.2f} %'.format(-cv_results['train_MAPE'].mean()* 100))\n",
    "print('MAPE на валидационных фолдах: {:.2f} %'.format(-cv_results['test_MAPE'].mean() * 100))\t\n",
    "\n"
   ],
   "outputs": [
    {
     "name": "stdout",
     "output_type": "stream",
     "text": [
      "Количество факторов после генерации полиномиальных признаков: 34\n",
      "MAE на тренировочных фолдах: 75.35\n",
      "MAE на валидационных фолдах: 110.47\n",
      "RMSE на тренировочных фолдах: 100.74\n",
      "RMSE на валидационных фолдах: 154.51\n",
      "MAPE на тренировочных фолдах: 1.77 %\n",
      "MAPE на валидационных фолдах: 2.68 %\n"
     ]
    }
   ],
   "execution_count": 96
  },
  {
   "cell_type": "markdown",
   "id": "9DkuuLLtFPPy",
   "metadata": {
    "id": "9DkuuLLtFPPy"
   },
   "source": [
    "## Выводы по построению модели полиномиальной регрессии\n",
    "- После генерации полиномиальных признаков третьей степени у нас получилось 34 фактора.\n",
    "- При сравнении метрик на тренировочных и валидационных фолдах видно, что модель переобучена, поскольку значения метрик на тренировочных фолдах немного лучше, чем на валидационных.\n",
    "- MAE, RMSE стали намного лучше, чем при использовании линейной регрессии только на признаках 1-ой степени, что говорит о том, что модель стала более точной в предсказании целевого признака.\n",
    "- Также стоит отметить, что модель полиномиальной регрессии третьей степени может быть сложной для интерпретации, поскольку включает в себя большое количество факторов."
   ]
  },
  {
   "cell_type": "markdown",
   "id": "63d06013",
   "metadata": {
    "id": "63d06013"
   },
   "source": [
    "### Задание 8.2. (2 балла)\n",
    "\n",
    "Теперь попробуем воспользоваться линейной регрессией с регуляризацией. Для начала возьмём $L_1$-регуляризацию.\n",
    "\n",
    "Обучите модель `Lasso` из библиотеки `sklearn` на полученных полиномиальных факторах, предварительно стандартизировав факторы. \n",
    "\n",
    "Коэффициент регуляризации (`alpha`) подберите самостоятельно с помощью любого известного вам метода подбора гиперпаметров.\n",
    "\n",
    "Используя кросс-валидацию, оцените среднее значение выбранной вами метрики (или метрик) на тренировочных и валидационных фолдах.\n",
    "\n",
    "Проинтерпретируйте полученные результаты."
   ]
  },
  {
   "cell_type": "markdown",
   "id": "z24YUfuA9rUq",
   "metadata": {
    "id": "z24YUfuA9rUq"
   },
   "source": [
    "**Критерии оценивания:**\n",
    "\n",
    "- Задание выполнено верно, учтены все условия (**2 балла**): \n",
    "    * правильно построена модель полиномиальной регрессии (линейной регрессии на полиномиальных признаках) с регуляризацией (Lasso), учтены условия необходимости масштабирования факторов для построения модели;\n",
    "    * приведён код для подбора параметра регуляризации (вручную или с помощью библиотечных инструментов);\n",
    "    * с помощью кросс-валидации оценено среднее значение выбранной студентом метрики (или метрик) на тренировочных и валидационных фолдах (метрика должна быть выбрана корректно).\n",
    "\n",
    "- Задание выполнено верно, но не учтено одно из условий (**1 балл**).\n",
    "- Задание выполнено неверно, не учтено несколько условий (**0 баллов**)."
   ]
  },
  {
   "cell_type": "code",
   "id": "IJ5b5G8qFz-r",
   "metadata": {
    "id": "IJ5b5G8qFz-r",
    "ExecuteTime": {
     "end_time": "2024-10-27T18:42:16.853444Z",
     "start_time": "2024-10-27T18:42:16.461586Z"
    }
   },
   "source": [
    "df = data\n",
    "\n",
    "# Выбираем признаки и целевую переменную\n",
    "X = df[['Por', 'AI', 'Brittle', 'VR']]\n",
    "y = df['Prod']\n",
    "\n",
    "# Инициализируем стандартизатор\n",
    "scaler = StandardScaler()\n",
    "\n",
    "# Стандартизируем признаки\n",
    "X_scaled = scaler.fit_transform(X)\n",
    "\n",
    "# Инициализируем генератор полиномиальных признаков\n",
    "poly = PolynomialFeatures(degree=3, include_bias=False)\n",
    "\n",
    "# Генерируем полиномиальные признаки\n",
    "X = poly.fit_transform(X_scaled)\n",
    "\n",
    "# Создаём модель линейной регрессии c L1-регуляризацией\n",
    "# Создаем модель Lasso без указания alpha\n",
    "lasso = Lasso(max_iter=10000)\n",
    "\n",
    "# Определяем диапазон значений alpha для перебора\n",
    "alpha_range = np.logspace(-4, 1, 50)  # от 0.0001 до 10 (50 значений)\n",
    "\n",
    "# Определяем сетку гиперпараметров\n",
    "param_grid = {'alpha': alpha_range}\n",
    "\n",
    "# Настраиваем GridSearchCV\n",
    "grid_search = GridSearchCV(estimator=lasso, param_grid=param_grid, scoring='neg_mean_absolute_error', cv=5, n_jobs=-1)\n",
    "\n",
    "# Выполняем поиск по сетке\n",
    "grid_search.fit(X, y)\n",
    "\n",
    "# Получаем лучшее значение alpha\n",
    "best_alpha = grid_search.best_params_['alpha']\n",
    "print(f\"Оптимальное значение alpha: {best_alpha:.5f}\")\n",
    "\n",
    "# Создаем модель Lasso с оптимальным alpha\n",
    "lasso_best = Lasso(alpha=best_alpha, max_iter=10000)\n",
    "\n",
    "# Определяем словарь с метриками\n",
    "scoring = {\n",
    "    'MAE': 'neg_mean_absolute_error',\n",
    "    'RMSE': 'neg_root_mean_squared_error',\n",
    "    'MAPE': 'neg_mean_absolute_percentage_error'\n",
    "}\n",
    "\n",
    "# оцениваем качество модели на кросс-валидации\n",
    "cv_results = cross_validate(lasso_best, X, y, scoring=scoring, cv=5, return_train_score=True)\n",
    "\n",
    "\n",
    "# Выводим результаты для MAE\n",
    "print('MAE на тренировочных фолдах: {:.2f}'.format(-cv_results['train_MAE'].mean()))\n",
    "print('MAE на валидационных фолдах: {:.2f}'.format(-cv_results['test_MAE'].mean()))\n",
    "\n",
    "# Выводим результаты для RMSE\n",
    "print('RMSE на тренировочных фолдах: {:.2f}'.format(-cv_results['train_RMSE'].mean()))\n",
    "print('RMSE на валидационных фолдах: {:.2f}'.format(-cv_results['test_RMSE'].mean()))\n",
    "\n",
    "# Выводим результаты для MAPE\n",
    "print('MAPE на тренировочных фолдах: {:.2f} %'.format(-cv_results['train_MAPE'].mean()* 100))\n",
    "print('MAPE на валидационных фолдах: {:.2f} %'.format(-cv_results['test_MAPE'].mean() * 100))\t"
   ],
   "outputs": [
    {
     "name": "stdout",
     "output_type": "stream",
     "text": [
      "Оптимальное значение alpha: 4.94171\n",
      "MAE на тренировочных фолдах: 78.26\n",
      "MAE на валидационных фолдах: 95.69\n",
      "RMSE на тренировочных фолдах: 106.74\n",
      "RMSE на валидационных фолдах: 129.75\n",
      "MAPE на тренировочных фолдах: 1.83 %\n",
      "MAPE на валидационных фолдах: 2.28 %\n"
     ]
    }
   ],
   "execution_count": 109
  },
  {
   "cell_type": "markdown",
   "id": "Se0OGR8UF2Td",
   "metadata": {
    "id": "Se0OGR8UF2Td"
   },
   "source": [
    "## Выводы по использованию L1-регуляризации\n",
    "- После использования L1-регуляризации модель стала более устойчивой, что видно по уменьшению разницы между значениями метрик на тренировочных и валидационных фолдах.\n",
    "- MAE, RMSE и MAPE на валидационных фолдах стали лучше, чем при использовании линейной регрессии без регуляризации, что говорит о том, что модель стала более точной в предсказании целевого признака."
   ]
  },
  {
   "cell_type": "markdown",
   "id": "2975ae60",
   "metadata": {
    "id": "2975ae60"
   },
   "source": [
    "### Задание 8.3. (2 балла)\n",
    "\n",
    "Проделаем то же самое с $L_2$-регуляризацией.\n",
    "\n",
    "Обучите модель `Ridge` из библиотеки `sklearn` на полученных полиномиальных факторах, предварительно стандартизировав факторы. \n",
    "\n",
    "Коэффициент регуляризации (`alpha`) подберите самостоятельно с помощью любого известного вам метода подбора гиперпаметров.\n",
    "\n",
    "Используя кросс-валидацию оцените среднее значение выбранной вами метрики (или метрик) на тренировочных и валидационных фолдах.\n",
    "\n",
    "Проинтерпретируйте полученные результаты."
   ]
  },
  {
   "cell_type": "code",
   "id": "UfPGyNsjGGS8",
   "metadata": {
    "id": "UfPGyNsjGGS8",
    "ExecuteTime": {
     "end_time": "2024-10-27T18:42:21.259019Z",
     "start_time": "2024-10-27T18:42:21.119469Z"
    }
   },
   "source": [
    "df = data\n",
    "\n",
    "# Выбираем признаки и целевую переменную\n",
    "X = df[['Por', 'AI', 'Brittle', 'VR']]\n",
    "y = df['Prod']\n",
    "\n",
    "# Инициализируем стандартизатор\n",
    "scaler = StandardScaler()\n",
    "\n",
    "# Стандартизируем признаки\n",
    "X_scaled = scaler.fit_transform(X)\n",
    "\n",
    "# Инициализируем генератор полиномиальных признаков\n",
    "poly = PolynomialFeatures(degree=3, include_bias=False)\n",
    "\n",
    "# Генерируем полиномиальные признаки\n",
    "X = poly.fit_transform(X_scaled)\n",
    "\n",
    "# Создаём модель линейной регрессии c L2-регуляризацией\n",
    "# Создаем модель Ridge без указания alpha\n",
    "ridge = Ridge(max_iter=10000)\n",
    "\n",
    "# Определяем диапазон значений alpha для перебора\n",
    "alpha_range = np.logspace(-4, 1, 50)  # от 0.0001 до 10 (50 значений)\n",
    "\n",
    "# Определяем сетку гиперпараметров\n",
    "param_grid = {'alpha': alpha_range}\n",
    "\n",
    "# Настраиваем GridSearchCV\n",
    "grid_search = GridSearchCV(estimator=ridge, param_grid=param_grid, scoring='neg_mean_absolute_error', cv=5, n_jobs=-1)\n",
    "\n",
    "# Выполняем поиск по сетке\n",
    "grid_search.fit(X, y)\n",
    "\n",
    "# Получаем лучшее значение alpha\n",
    "best_alpha = grid_search.best_params_['alpha']\n",
    "print(f\"Оптимальное значение alpha: {best_alpha:.5f}\")\n",
    "\n",
    "# Создаем модель Ridge с оптимальным alpha\n",
    "ridge_best = Ridge(alpha=best_alpha, max_iter=10000)\n",
    "\n",
    "# Определяем словарь с метриками\n",
    "scoring = {\n",
    "    'MAE': 'neg_mean_absolute_error',\n",
    "    'RMSE': 'neg_root_mean_squared_error',\n",
    "    'MAPE': 'neg_mean_absolute_percentage_error'\n",
    "}\n",
    "\n",
    "# оцениваем качество модели на кросс-валидации\n",
    "cv_results = cross_validate(ridge_best, X, y, scoring=scoring, cv=5, return_train_score=True)\n",
    "\n",
    "\n",
    "# Выводим результаты для MAE\n",
    "print('MAE на тренировочных фолдах: {:.2f}'.format(-cv_results['train_MAE'].mean()))\n",
    "print('MAE на валидационных фолдах: {:.2f}'.format(-cv_results['test_MAE'].mean()))\n",
    "\n",
    "# Выводим результаты для RMSE\n",
    "print('RMSE на тренировочных фолдах: {:.2f}'.format(-cv_results['train_RMSE'].mean()))\n",
    "print('RMSE на валидационных фолдах: {:.2f}'.format(-cv_results['test_RMSE'].mean()))\n",
    "\n",
    "# Выводим результаты для MAPE\n",
    "print('MAPE на тренировочных фолдах: {:.2f} %'.format(-cv_results['train_MAPE'].mean()* 100))\n",
    "print('MAPE на валидационных фолдах: {:.2f} %'.format(-cv_results['test_MAPE'].mean() * 100))"
   ],
   "outputs": [
    {
     "name": "stdout",
     "output_type": "stream",
     "text": [
      "Оптимальное значение alpha: 0.23300\n",
      "MAE на тренировочных фолдах: 75.44\n",
      "MAE на валидационных фолдах: 110.07\n",
      "RMSE на тренировочных фолдах: 100.89\n",
      "RMSE на валидационных фолдах: 153.46\n",
      "MAPE на тренировочных фолдах: 1.77 %\n",
      "MAPE на валидационных фолдах: 2.67 %\n"
     ]
    }
   ],
   "execution_count": 110
  },
  {
   "cell_type": "markdown",
   "id": "dQBd7ny_GIi1",
   "metadata": {
    "id": "dQBd7ny_GIi1"
   },
   "source": [
    "## Выводы по использованию L2-регуляризации\n",
    "- После использования L2-регуляризации точность модели осталась на уровне линейной регрессии без регуляризации. Метрики только слегка улучшились."
   ]
  },
  {
   "cell_type": "markdown",
   "id": "86pXnWE7-5ch",
   "metadata": {
    "id": "86pXnWE7-5ch"
   },
   "source": [
    "**Критерии оценивания:**\n",
    "\n",
    "- Задание выполнено верно, учтены все условия (**2 балла**): \n",
    "    * правильно построена модель полиномиальной регрессии (линейной регрессии на полиномиальных признаках) с регуляризацией (Ridge), учтены условия необходимости масштабирования факторов для построения модели;\n",
    "    * приведён код для подбора параметра регуляризации (вручную или с помощью библиотечных инструментов);\n",
    "    * с помощью кросс-валидации оценено среднее значение выбранной студентом метрики (или метрик) на тренировочных и валидационных фолдах (метрика должна быть выбрана корректно).\n",
    "\n",
    "- Задание выполнено верно, но не учтено одно из условий (**1 балл**).\n",
    "- Задание выполнено неверно, не учтено несколько условий (**0 баллов**)."
   ]
  },
  {
   "cell_type": "markdown",
   "id": "7ad85b78",
   "metadata": {
    "id": "7ad85b78"
   },
   "source": [
    "### Задание 8.4. (2 балла)\n",
    "\n",
    "Наконец, настало время комбинировать $L_1$ и $L_2$ -регуляризации.\n",
    "\n",
    "Обучите модель `ElasticNet` из библиотеки `sklearn` на полученных полиномиальных факторах, предварительно стандартизировав факторы. \n",
    "\n",
    "Коэффициенты регуляризации (`alpha` и `l1-ratio`) подберите самостоятельно с помощью любого известного вам метода подбора гиперпаметров.\n",
    "\n",
    "Используя кросс-валидацию, оцените среднее значение метрики MAPE на тренировочных и валидационных фолдах.\n",
    "\n",
    "Проинтерпретируйте полученные результаты."
   ]
  },
  {
   "cell_type": "markdown",
   "id": "sy8ESceQ-__u",
   "metadata": {
    "id": "sy8ESceQ-__u"
   },
   "source": [
    "**Критерии оценивания:**\n",
    "\n",
    "- Задание выполнено верно, учтены все условия (**2 балла**): \n",
    "    * правильно построена модель полиномиальной регрессии (линейной регрессии на полиномиальных признаках) с регуляризацией (ElasticNet), учтены условия необходимости масштабирования факторов для построения модели;\n",
    "    * приведён код для подбора параметра регуляризации (вручную или с помощью библиотечных инструментов);\n",
    "    * с помощью кросс-валидации оценено среднее значение выбранной студентом метрики (или метрик) на тренировочных и валидационных фолдах (метрика должна быть выбрана корректно).\n",
    "\n",
    "- Задание выполнено верно, но не учтено одно из условий (**1 балл**).\n",
    "- Задание выполнено неверно, не учтено несколько условий (**0 баллов**)."
   ]
  },
  {
   "cell_type": "code",
   "id": "-Yi3P20hQnLS",
   "metadata": {
    "id": "-Yi3P20hQnLS",
    "ExecuteTime": {
     "end_time": "2024-10-27T18:42:31.354297Z",
     "start_time": "2024-10-27T18:42:30.600398Z"
    }
   },
   "source": [
    "df = data\n",
    "\n",
    "# Выбираем признаки и целевую переменную\n",
    "X = df[['Por', 'AI', 'Brittle', 'VR']]\n",
    "y = df['Prod']\n",
    "\n",
    "# Инициализируем стандартизатор\n",
    "scaler = StandardScaler()\n",
    "\n",
    "# Стандартизируем признаки\n",
    "X_scaled = scaler.fit_transform(X)\n",
    "\n",
    "# Инициализируем генератор полиномиальных признаков\n",
    "poly = PolynomialFeatures(degree=3, include_bias=False)\n",
    "\n",
    "# Генерируем полиномиальные признаки\n",
    "X = poly.fit_transform(X_scaled)\n",
    "\n",
    "# Создаём модель линейной регрессии с L1 и L2-регуляризацией\n",
    "# Создаем модель ElasticNet без указания alpha и l1_ratio\n",
    "elastic_net = ElasticNet(max_iter=10000)\n",
    "\n",
    "# Определяем диапазон значений alpha и l1_ratio для перебора\n",
    "alpha_range = np.logspace(-4, 1, 10)      # от 0.0001 до 10 (10 значений)\n",
    "l1_ratio_range = np.linspace(0.1, 0.9, 9) # от 0.1 до 0.9 (9 значений)\n",
    "\n",
    "param_grid = {\n",
    "    'alpha': alpha_range,\n",
    "    'l1_ratio': l1_ratio_range\n",
    "}\n",
    "\n",
    "# Настраиваем GridSearchCV\n",
    "grid_search = GridSearchCV(estimator=elastic_net, param_grid=param_grid, scoring='neg_mean_absolute_error', cv=5, n_jobs=-1)\n",
    "\n",
    "# Выполняем поиск по сетке\n",
    "grid_search.fit(X, y)\n",
    "\n",
    "# Получаем лучшие значения гиперпараметров\n",
    "best_alpha = grid_search.best_params_['alpha']\n",
    "best_l1_ratio = grid_search.best_params_['l1_ratio']\n",
    "print(f\"Оптимальное значение alpha: {best_alpha:.5f}\")\n",
    "print(f\"Оптимальное значение l1_ratio: {best_l1_ratio:.5f}\")\n",
    "\n",
    "# Создаем модель ElasticNet с оптимальными параметрами\n",
    "elastic_net_best = ElasticNet(alpha=best_alpha, l1_ratio=best_l1_ratio, max_iter=10000)\n",
    "\n",
    "# Определяем словарь с метриками\n",
    "scoring = {\n",
    "    'MAE': 'neg_mean_absolute_error',\n",
    "    'RMSE': 'neg_root_mean_squared_error',\n",
    "    'MAPE': 'neg_mean_absolute_percentage_error'\n",
    "}\n",
    "\n",
    "# оцениваем качество модели на кросс-валидации\n",
    "cv_results = cross_validate(elastic_net_best, X, y, scoring=scoring, cv=5, return_train_score=True)\n",
    "\n",
    "\n",
    "# Выводим результаты для MAE\n",
    "print('MAE на тренировочных фолдах: {:.2f}'.format(-cv_results['train_MAE'].mean()))\n",
    "print('MAE на валидационных фолдах: {:.2f}'.format(-cv_results['test_MAE'].mean()))\n",
    "\n",
    "# Выводим результаты для RMSE\n",
    "print('RMSE на тренировочных фолдах: {:.2f}'.format(-cv_results['train_RMSE'].mean()))\n",
    "print('RMSE на валидационных фолдах: {:.2f}'.format(-cv_results['test_RMSE'].mean()))\n",
    "\n",
    "# Выводим результаты для MAPE\n",
    "print('MAPE на тренировочных фолдах: {:.2f} %'.format(-cv_results['train_MAPE'].mean()* 100))\n",
    "print('MAPE на валидационных фолдах: {:.2f} %'.format(-cv_results['test_MAPE'].mean() * 100))"
   ],
   "outputs": [
    {
     "name": "stdout",
     "output_type": "stream",
     "text": [
      "Оптимальное значение alpha: 0.01668\n",
      "Оптимальное значение l1_ratio: 0.90000\n",
      "MAE на тренировочных фолдах: 75.46\n",
      "MAE на валидационных фолдах: 109.89\n",
      "RMSE на тренировочных фолдах: 100.94\n",
      "RMSE на валидационных фолдах: 153.09\n",
      "MAPE на тренировочных фолдах: 1.78 %\n",
      "MAPE на валидационных фолдах: 2.67 %\n"
     ]
    }
   ],
   "execution_count": 111
  },
  {
   "cell_type": "markdown",
   "id": "er2lAiE9QpAb",
   "metadata": {
    "id": "er2lAiE9QpAb"
   },
   "source": [
    "## Выводы по использованию L1 и L2-регуляризации\n",
    "- После использования ElasticNet точность модели осталась на уровне Ridge-регрессии. Метрики только слегка улучшились."
   ]
  },
  {
   "cell_type": "markdown",
   "id": "91c6e1d1",
   "metadata": {
    "id": "91c6e1d1"
   },
   "source": [
    "### Задание 8.5. (1 балл)\n",
    "\n",
    "Завершением вашей работы будет сводная таблица результатов, которую вы представите на презентации заказчику Василию.\n",
    "\n",
    "Составьте таблицу (DataFrame) со следующими столбцами (имена столбцов выберите самостоятельно):\n",
    "* Наименование модели.\n",
    "* Гиперпараметры (коэффициенты регуляризации, если таковые имеются), если нет — оставьте ячейку пустой.\n",
    "* Использовались ли полиномиальные признаки при построении модели (Да/Нет или True/False).\n",
    "* Значение выбранной метрики на тренировочных фолдах при кросс-валидации модели.\n",
    "* Значение выбранной метрики на валидационных фолдах при кросс-валидации модели.\n",
    "\n",
    "Сделайте финальный вывод по проделанной работе. Какая линейная модель из тех, что мы рассмотрели, показала наилучший результат с точки зрения качества на валидационных фолдах, а также с точки зрения переобученности?"
   ]
  },
  {
   "cell_type": "markdown",
   "id": "OsFRaKkF_nLq",
   "metadata": {
    "id": "OsFRaKkF_nLq"
   },
   "source": [
    "**Критерии оценивания:**\n",
    "\n",
    "- Задание выполнено верно, учтены все условия (**1 балл**): \n",
    "    * верно составлена сводная таблица итоговых результатов построенных ранее моделей с указанными в задании столбцами;\n",
    "    * приведены итоговые выводы по проделанной работе, указано, какая из рассмотренных моделей показала наилучший результат.\n",
    "\n",
    "- Задание выполнено неверно, не учтено одно или несколько условий (**0 баллов**)."
   ]
  },
  {
   "cell_type": "code",
   "id": "wRiys8lKQuqW",
   "metadata": {
    "id": "wRiys8lKQuqW",
    "ExecuteTime": {
     "end_time": "2024-10-27T19:11:04.182241Z",
     "start_time": "2024-10-27T19:11:04.167164Z"
    }
   },
   "source": [
    "model_results = [\n",
    "    {\n",
    "        'Наименование модели': 'Линейная регрессия',\n",
    "        'Гиперпараметры': '',\n",
    "        'Полиномиальные признаки': 'Нет',\n",
    "        'Train RMSE': 230.36,\n",
    "        'Test RMSE': 240.21\n",
    "    },\n",
    "    {\n",
    "        'Наименование модели': 'Линейная регрессия',\n",
    "        'Гиперпараметры': '',\n",
    "        'Полиномиальные признаки': 'Да',\n",
    "        'Train RMSE': 100.74,\n",
    "        'Test RMSE': 154.51\n",
    "    },\n",
    "    {\n",
    "        'Наименование модели': 'Lasso-регрессия',\n",
    "        'Гиперпараметры': 'alpha=4.94171',\n",
    "        'Полиномиальные признаки': 'Да',\n",
    "        'Train RMSE': 106.74,\n",
    "        'Test RMSE': 129.75\n",
    "    },\n",
    "    {\n",
    "        'Наименование модели': 'Ridge-регрессия',\n",
    "        'Гиперпараметры': 'alpha=0.233',\n",
    "        'Полиномиальные признаки': 'Да',\n",
    "        'Train RMSE': 100.89,\n",
    "        'Test RMSE': 153.46\n",
    "    },\n",
    "    {\n",
    "        'Наименование модели': 'ElasticNet-регрессия',\n",
    "        'Гиперпараметры': 'alpha=0.01668, l1_ratio=0.9',\n",
    "        'Полиномиальные признаки': 'Да',\n",
    "        'Train RMSE': 100.94,\n",
    "        'Test RMSE': 153.09\n",
    "    }\n",
    "]\n",
    "\n",
    "results_df = pd.DataFrame(model_results)\n",
    "results_df['Overfitting %'] = ((results_df['Test RMSE'] - results_df['Train RMSE']) / results_df['Train RMSE'] * 100).round(0).astype(int)\n",
    "results_df\n"
   ],
   "outputs": [
    {
     "data": {
      "text/plain": [
       "    Наименование модели               Гиперпараметры Полиномиальные признаки  \\\n",
       "0    Линейная регрессия                                                  Нет   \n",
       "1    Линейная регрессия                                                   Да   \n",
       "2       Lasso-регрессия                alpha=4.94171                      Да   \n",
       "3       Ridge-регрессия                  alpha=0.233                      Да   \n",
       "4  ElasticNet-регрессия  alpha=0.01668, l1_ratio=0.9                      Да   \n",
       "\n",
       "   Train RMSE  Test RMSE  Overfitting %  \n",
       "0      230.36     240.21              4  \n",
       "1      100.74     154.51             53  \n",
       "2      106.74     129.75             22  \n",
       "3      100.89     153.46             52  \n",
       "4      100.94     153.09             52  "
      ],
      "text/html": [
       "<div>\n",
       "<style scoped>\n",
       "    .dataframe tbody tr th:only-of-type {\n",
       "        vertical-align: middle;\n",
       "    }\n",
       "\n",
       "    .dataframe tbody tr th {\n",
       "        vertical-align: top;\n",
       "    }\n",
       "\n",
       "    .dataframe thead th {\n",
       "        text-align: right;\n",
       "    }\n",
       "</style>\n",
       "<table border=\"1\" class=\"dataframe\">\n",
       "  <thead>\n",
       "    <tr style=\"text-align: right;\">\n",
       "      <th></th>\n",
       "      <th>Наименование модели</th>\n",
       "      <th>Гиперпараметры</th>\n",
       "      <th>Полиномиальные признаки</th>\n",
       "      <th>Train RMSE</th>\n",
       "      <th>Test RMSE</th>\n",
       "      <th>Overfitting %</th>\n",
       "    </tr>\n",
       "  </thead>\n",
       "  <tbody>\n",
       "    <tr>\n",
       "      <th>0</th>\n",
       "      <td>Линейная регрессия</td>\n",
       "      <td></td>\n",
       "      <td>Нет</td>\n",
       "      <td>230.36</td>\n",
       "      <td>240.21</td>\n",
       "      <td>4</td>\n",
       "    </tr>\n",
       "    <tr>\n",
       "      <th>1</th>\n",
       "      <td>Линейная регрессия</td>\n",
       "      <td></td>\n",
       "      <td>Да</td>\n",
       "      <td>100.74</td>\n",
       "      <td>154.51</td>\n",
       "      <td>53</td>\n",
       "    </tr>\n",
       "    <tr>\n",
       "      <th>2</th>\n",
       "      <td>Lasso-регрессия</td>\n",
       "      <td>alpha=4.94171</td>\n",
       "      <td>Да</td>\n",
       "      <td>106.74</td>\n",
       "      <td>129.75</td>\n",
       "      <td>22</td>\n",
       "    </tr>\n",
       "    <tr>\n",
       "      <th>3</th>\n",
       "      <td>Ridge-регрессия</td>\n",
       "      <td>alpha=0.233</td>\n",
       "      <td>Да</td>\n",
       "      <td>100.89</td>\n",
       "      <td>153.46</td>\n",
       "      <td>52</td>\n",
       "    </tr>\n",
       "    <tr>\n",
       "      <th>4</th>\n",
       "      <td>ElasticNet-регрессия</td>\n",
       "      <td>alpha=0.01668, l1_ratio=0.9</td>\n",
       "      <td>Да</td>\n",
       "      <td>100.94</td>\n",
       "      <td>153.09</td>\n",
       "      <td>52</td>\n",
       "    </tr>\n",
       "  </tbody>\n",
       "</table>\n",
       "</div>"
      ]
     },
     "execution_count": 115,
     "metadata": {},
     "output_type": "execute_result"
    }
   ],
   "execution_count": 115
  },
  {
   "cell_type": "markdown",
   "id": "UP7_LSoEQsrA",
   "metadata": {
    "id": "UP7_LSoEQsrA"
   },
   "source": [
    "## Выводы по проделанной работе\n",
    "- Наименьший Test RMSE показала Lasso-регрессия (129.75), что свидетельствует о высокой точности модели на валидационных фолдах.\n",
    "- Наименьшее переобучение (Overfitting %) показала Линейная регрессия без полиномиальных признаков (4%)), однако её точность (Test RMSE = 240.21) значительно уступает другим моделям.\n",
    "- Наилучший баланс между точностью и переобучением имеет Lasso-регрессия (Test RMSE = 129.75, Overfitting % = 22%), поэтому её можно рекомендовать для дальнейшего использования."
   ]
  },
  {
   "cell_type": "code",
   "execution_count": 15,
   "id": "752d4445-6a85-4cfb-b520-7b7b0f9a5b20",
   "metadata": {
    "ExecuteTime": {
     "end_time": "2024-10-26T13:52:59.773201Z",
     "start_time": "2024-10-26T13:52:59.770243Z"
    },
    "id": "752d4445-6a85-4cfb-b520-7b7b0f9a5b20"
   },
   "outputs": [],
   "source": []
  }
 ],
 "metadata": {
  "colab": {
   "provenance": []
  },
  "kernelspec": {
   "display_name": "Python 3 (ipykernel)",
   "language": "python",
   "name": "python3"
  },
  "language_info": {
   "codemirror_mode": {
    "name": "ipython",
    "version": 3
   },
   "file_extension": ".py",
   "mimetype": "text/x-python",
   "name": "python",
   "nbconvert_exporter": "python",
   "pygments_lexer": "ipython3",
   "version": "3.11.7"
  },
  "vscode": {
   "interpreter": {
    "hash": "86c56a74836ad344b00594bf6f38fa6a676a207ceefe20d101fbc465800ccb8d"
   }
  }
 },
 "nbformat": 4,
 "nbformat_minor": 5
}
